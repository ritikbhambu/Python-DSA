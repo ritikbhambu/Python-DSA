{
 "cells": [
  {
   "cell_type": "code",
   "execution_count": 9,
   "id": "ff52cdad",
   "metadata": {},
   "outputs": [
    {
     "name": "stdout",
     "output_type": "stream",
     "text": [
      "1 12 123 1234 12345 \n",
      "2 23 234 2345 \n",
      "3 34 345 \n",
      "4 45 \n",
      "5 \n"
     ]
    }
   ],
   "source": [
    "def print_subarrays(arr): # bruteforce method to print subarrays\n",
    "    n = len(arr)\n",
    "    for st in range(n):\n",
    "        for end in range(st, n):\n",
    "            for i in range(st, end + 1):\n",
    "                print(arr[i], end=\"\")\n",
    "            print(\" \", end=\"\")\n",
    "        print()\n",
    "\n",
    "\n",
    "arr = [1, 2, 3, 4, 5]\n",
    "print_subarrays(arr)\n",
    "\n",
    "\n"
   ]
  },
  {
   "cell_type": "code",
   "execution_count": 5,
   "id": "1e3beef5",
   "metadata": {},
   "outputs": [
    {
     "name": "stdout",
     "output_type": "stream",
     "text": [
      "Maximum Subarray Sum: 6\n"
     ]
    }
   ],
   "source": [
    "def max_subarray_sum(nums): # kadanes algorithm\n",
    "    curr_sum = 0\n",
    "    max_sum = float('-inf')  # taking 0 can produce error if array contains negative elements\n",
    "\n",
    "    for val in nums:\n",
    "        curr_sum += val\n",
    "        max_sum = max(curr_sum, max_sum)\n",
    "        if curr_sum < 0:\n",
    "            curr_sum = 0\n",
    "\n",
    "    return max_sum\n",
    "\n",
    " \n",
    "nums = [-2, 1, -3, 4, -1, 2, 1]\n",
    "print(\"Maximum Subarray Sum:\", max_subarray_sum(nums))\n"
   ]
  },
  {
   "cell_type": "code",
   "execution_count": 10,
   "id": "3be67b6d",
   "metadata": {},
   "outputs": [
    {
     "name": "stdout",
     "output_type": "stream",
     "text": [
      "[1, 3, 12, 0, 0]\n"
     ]
    }
   ],
   "source": [
    "def move_to_end(arr):\n",
    "    n = len(arr)\n",
    "    for i in range(n):\n",
    "        if arr[i] == 0:\n",
    "            for j in range(i + 1, n): # find the nonzero element to swap\n",
    "                if arr[j] != 0:      # element should be nonzero\n",
    "                    arr[i], arr[j] = arr[j], arr[i]\n",
    "                    break  # Only swap with the next non-zero element \n",
    "\n",
    " \n",
    "arr = [0, 1, 0, 3, 12]\n",
    "move_to_end(arr)\n",
    "print(arr)   \n"
   ]
  },
  {
   "cell_type": "code",
   "execution_count": null,
   "id": "0f58b546",
   "metadata": {},
   "outputs": [
    {
     "name": "stdout",
     "output_type": "stream",
     "text": [
      "[0, 0, 0, 1, 1, 1, 2, 2]\n"
     ]
    }
   ],
   "source": [
    "#Sort 0s, 1s and 2s (Dutch National Flag Algorithm)\n",
    "\n",
    "def sort012(arr):\n",
    "    n=len(arr)\n",
    "    count0,count1,count2=0,0,0\n",
    "    for i in arr:\n",
    "        if i==0: count0+=1\n",
    "        if i==1: count1+=1\n",
    "        if i==2: count2+=1\n",
    "    idx=0\n",
    "    for j in range(count0):\n",
    "        arr[idx] = 0\n",
    "        idx+=1  \n",
    "    for j in range(count1):\n",
    "        arr[idx] = 1\n",
    "        idx+=1  \n",
    "    for j in range(count2):\n",
    "        arr[idx] = 2\n",
    "        idx+=1  \n",
    "    return arr    \n",
    "\n",
    "\n",
    "arr = [0,1,0,0,2,1,2,1]\n",
    "print(sort012(arr))"
   ]
  },
  {
   "cell_type": "code",
   "execution_count": 18,
   "id": "6550fdf2",
   "metadata": {},
   "outputs": [
    {
     "name": "stdout",
     "output_type": "stream",
     "text": [
      "2\n"
     ]
    }
   ],
   "source": [
    "def missing_from_1_to_n(arr):\n",
    "    n = len(arr)\n",
    "    for i in range(n):\n",
    "        if i not in arr:\n",
    "            return i\n",
    "\n",
    "arr = [0,4,3,1,5]\n",
    "print(missing_from_1_to_n(arr))"
   ]
  },
  {
   "cell_type": "code",
   "execution_count": 26,
   "id": "77583760",
   "metadata": {},
   "outputs": [
    {
     "name": "stdout",
     "output_type": "stream",
     "text": [
      "[0, 1, 2]\n"
     ]
    }
   ],
   "source": [
    "def find_duplicate(arr):\n",
    "    hashmap = {}\n",
    "    duplicates = []\n",
    "    for i in arr:\n",
    "        if i in hashmap:\n",
    "            hashmap[i]+=1\n",
    "        else:\n",
    "            hashmap[i]=1\n",
    "    for j in hashmap:\n",
    "        if hashmap[j]>1:\n",
    "            duplicates.append(j)\n",
    "    return duplicates            \n",
    "             \n",
    "                    \n",
    "\n",
    "arr = [0,1,0,0,2,1,2,1]\n",
    "print(find_duplicate(arr))"
   ]
  },
  {
   "cell_type": "code",
   "execution_count": 32,
   "id": "55a020a3",
   "metadata": {},
   "outputs": [
    {
     "name": "stdout",
     "output_type": "stream",
     "text": [
      "[2, 4, 5, 6, 8, 10, 10, 12, 15, 20, 25, 30]\n"
     ]
    }
   ],
   "source": [
    "def merge_sorted_lists(arr1,arr2):\n",
    "    for i in range(len(arr2)):\n",
    "        arr1.append(arr2[i])\n",
    "\n",
    "    for i in range(len(arr1)):\n",
    "        for j in range(len(arr1)-i-1):\n",
    "            if arr1[j]>arr1[j+1]:\n",
    "                arr1[j],arr1[j+1] = arr1[j+1],arr1[j]  \n",
    "    return arr1            \n",
    "\n",
    "arr1 = [ 5,10,15,20,25,30]\n",
    "arr2 = [2,4,6,8,10,12]\n",
    "\n",
    "print(merge_sorted_lists(arr1,arr2))"
   ]
  },
  {
   "cell_type": "code",
   "execution_count": 34,
   "id": "4a0c3faf",
   "metadata": {},
   "outputs": [
    {
     "name": "stdout",
     "output_type": "stream",
     "text": [
      "[2, 4, 5, 6, 8, 10, 10, 12, 15, 20, 25, 30]\n"
     ]
    }
   ],
   "source": [
    "def merge_sorted_lists(arr1, arr2):\n",
    "    i = j = 0\n",
    "    merged = []\n",
    "\n",
    "    while i < len(arr1) and j < len(arr2):\n",
    "        if arr1[i] < arr2[j]:\n",
    "            merged.append(arr1[i])\n",
    "            i += 1\n",
    "        else:\n",
    "            merged.append(arr2[j])\n",
    "            j += 1\n",
    "\n",
    "    while i < len(arr1):\n",
    "        merged.append(arr1[i])\n",
    "        i += 1\n",
    "    while j < len(arr2):\n",
    "        merged.append(arr2[j])\n",
    "        j += 1\n",
    "\n",
    "    return merged\n",
    "arr1 = [ 5,10,15,20,25,30]\n",
    "arr2 = [2,4,6,8,10,12]\n",
    "\n",
    "print(merge_sorted_lists(arr1,arr2))\n"
   ]
  },
  {
   "cell_type": "code",
   "execution_count": null,
   "id": "c1ada6a4",
   "metadata": {},
   "outputs": [],
   "source": []
  }
 ],
 "metadata": {
  "kernelspec": {
   "display_name": "base",
   "language": "python",
   "name": "python3"
  },
  "language_info": {
   "codemirror_mode": {
    "name": "ipython",
    "version": 3
   },
   "file_extension": ".py",
   "mimetype": "text/x-python",
   "name": "python",
   "nbconvert_exporter": "python",
   "pygments_lexer": "ipython3",
   "version": "3.12.7"
  }
 },
 "nbformat": 4,
 "nbformat_minor": 5
}
